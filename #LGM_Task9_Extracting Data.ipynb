{
 "cells": [
  {
   "cell_type": "markdown",
   "id": "a2434807",
   "metadata": {},
   "source": [
    "# HREEYA SINGH"
   ]
  },
  {
   "cell_type": "markdown",
   "id": "0491d9dd",
   "metadata": {},
   "source": [
    "# LGMVIP - DataScience Intern, March-2022\n",
    "## Task9 - Handwritten equation solver using CNN\n",
    "### Advanced Level Task\n",
    "Dataset Link: https://www.kaggle.com/xainano/handwrittenmathsymbols"
   ]
  },
  {
   "cell_type": "markdown",
   "id": "4d476330",
   "metadata": {},
   "source": [
    "### Import these libraries"
   ]
  },
  {
   "cell_type": "code",
   "execution_count": 1,
   "id": "93b75999",
   "metadata": {},
   "outputs": [],
   "source": [
    "import numpy as np\n",
    "import cv2\n",
    "from PIL import Image\n",
    "from matplotlib import pyplot as plt\n",
    "%matplotlib inline\n",
    "import os\n",
    "from os import listdir\n",
    "from os.path import isfile, join\n",
    "import pandas as pd"
   ]
  },
  {
   "cell_type": "code",
   "execution_count": 2,
   "id": "8312acc4",
   "metadata": {},
   "outputs": [],
   "source": [
    "def load_images_from_folder(folder):\n",
    "    train_data=[]\n",
    "    for filename in os.listdir(folder):\n",
    "        img = cv2.imread(os.path.join(folder,filename),cv2.IMREAD_GRAYSCALE)\n",
    "        img=~img\n",
    "        if img is not None:\n",
    "            ret,thresh=cv2.threshold(img,127,255,cv2.THRESH_BINARY)\n",
    "\n",
    "            ctrs,ret=cv2.findContours(thresh,cv2.RETR_EXTERNAL,cv2.CHAIN_APPROX_NONE)\n",
    "            cnt=sorted(ctrs, key=lambda ctr: cv2.boundingRect(ctr)[0])\n",
    "            w=int(28)\n",
    "            h=int(28)\n",
    "            maxi=0\n",
    "            for c in cnt:\n",
    "                x,y,w,h=cv2.boundingRect(c)\n",
    "                maxi=max(w*h,maxi)\n",
    "                if maxi==w*h:\n",
    "                    x_max=x\n",
    "                    y_max=y\n",
    "                    w_max=w\n",
    "                    h_max=h\n",
    "            im_crop= thresh[y_max:y_max+h_max+10, x_max:x_max+w_max+10]\n",
    "            im_resize = cv2.resize(im_crop,(28,28))\n",
    "            im_resize=np.reshape(im_resize,(784,1))\n",
    "            train_data.append(im_resize)\n",
    "    return train_data"
   ]
  },
  {
   "cell_type": "code",
   "execution_count": 3,
   "id": "b0f16b42",
   "metadata": {},
   "outputs": [],
   "source": [
    "data=[]"
   ]
  },
  {
   "cell_type": "code",
   "execution_count": 14,
   "id": "bf975bff",
   "metadata": {},
   "outputs": [],
   "source": [
    "### Assign '0' = 0"
   ]
  },
  {
   "cell_type": "code",
   "execution_count": 4,
   "id": "5a2a4b40",
   "metadata": {},
   "outputs": [
    {
     "name": "stdout",
     "output_type": "stream",
     "text": [
      "6914\n"
     ]
    }
   ],
   "source": [
    "\n",
    "data=load_images_from_folder(r\"C:\\Users\\HREEYA SINGH\\OneDrive\\Desktop\\LGM\\task9\\extracted_images\\0\")\n",
    "for i in range(0,len(data)):\n",
    "    data[i]=np.append(data[i],['0'])\n",
    "print(len(data))"
   ]
  },
  {
   "cell_type": "code",
   "execution_count": 13,
   "id": "def8c9a4",
   "metadata": {},
   "outputs": [],
   "source": [
    "### Assign 1'' = 1"
   ]
  },
  {
   "cell_type": "code",
   "execution_count": 5,
   "id": "4d7aa2f4",
   "metadata": {},
   "outputs": [
    {
     "name": "stdout",
     "output_type": "stream",
     "text": [
      "33434\n"
     ]
    }
   ],
   "source": [
    "data0=load_images_from_folder(r'C:\\Users\\HREEYA SINGH\\OneDrive\\Desktop\\LGM\\task9\\extracted_images\\1')\n",
    "\n",
    "for i in range(0,len(data0)):\n",
    "    data0[i]=np.append(data0[i],['1'])\n",
    "data=np.concatenate((data,data0))\n",
    "print(len(data))"
   ]
  },
  {
   "cell_type": "code",
   "execution_count": 12,
   "id": "236a0607",
   "metadata": {},
   "outputs": [],
   "source": [
    "### Assign '2' = 2"
   ]
  },
  {
   "cell_type": "code",
   "execution_count": 6,
   "id": "d0b2a8cc",
   "metadata": {},
   "outputs": [
    {
     "name": "stdout",
     "output_type": "stream",
     "text": [
      "59575\n"
     ]
    }
   ],
   "source": [
    "data2=load_images_from_folder(r'C:\\Users\\HREEYA SINGH\\OneDrive\\Desktop\\LGM\\task9\\extracted_images\\2')\n",
    "\n",
    "for i in range(0,len(data2)):\n",
    "    data2[i]=np.append(data2[i],['2'])\n",
    "data=np.concatenate((data,data2))\n",
    "print(len(data))"
   ]
  },
  {
   "cell_type": "code",
   "execution_count": 11,
   "id": "f731cd88",
   "metadata": {},
   "outputs": [],
   "source": [
    "### Assign '3' = 3"
   ]
  },
  {
   "cell_type": "code",
   "execution_count": 7,
   "id": "b94de4e7",
   "metadata": {},
   "outputs": [
    {
     "name": "stdout",
     "output_type": "stream",
     "text": [
      "70484\n"
     ]
    }
   ],
   "source": [
    "data3=load_images_from_folder(r\"C:\\Users\\HREEYA SINGH\\OneDrive\\Desktop\\LGM\\task9\\extracted_images\\3\")\n",
    "\n",
    "for i in range(0,len(data3)):\n",
    "    data3[i]=np.append(data3[i],['3'])\n",
    "data=np.concatenate((data,data3))\n",
    "print(len(data))"
   ]
  },
  {
   "cell_type": "code",
   "execution_count": 10,
   "id": "f4ab782a",
   "metadata": {},
   "outputs": [],
   "source": [
    "### Assign \"4\" = 4"
   ]
  },
  {
   "cell_type": "code",
   "execution_count": 8,
   "id": "e464c200",
   "metadata": {},
   "outputs": [
    {
     "name": "stdout",
     "output_type": "stream",
     "text": [
      "77880\n"
     ]
    }
   ],
   "source": [
    "data4=load_images_from_folder(r\"C:\\Users\\HREEYA SINGH\\OneDrive\\Desktop\\LGM\\task9\\extracted_images\\4\")\n",
    "for i in range(0,len(data4)):\n",
    "    data4[i]=np.append(data4[i],['4'])\n",
    "data=np.concatenate((data,data4))\n",
    "print(len(data)) "
   ]
  },
  {
   "cell_type": "code",
   "execution_count": 9,
   "id": "bf43c398",
   "metadata": {},
   "outputs": [],
   "source": [
    "### Assign \"5\" = 5"
   ]
  },
  {
   "cell_type": "code",
   "execution_count": 9,
   "id": "63b62e75",
   "metadata": {},
   "outputs": [
    {
     "name": "stdout",
     "output_type": "stream",
     "text": [
      "81425\n"
     ]
    }
   ],
   "source": [
    "data5=load_images_from_folder(r\"C:\\Users\\HREEYA SINGH\\OneDrive\\Desktop\\LGM\\task9\\extracted_images\\5\")\n",
    "\n",
    "for i in range(0,len(data5)):\n",
    "    data5[i]=np.append(data5[i],['5'])\n",
    "data=np.concatenate((data,data5))\n",
    "print(len(data))"
   ]
  },
  {
   "cell_type": "code",
   "execution_count": 8,
   "id": "e82f5815",
   "metadata": {},
   "outputs": [],
   "source": [
    "### Assign \"6\" = 6"
   ]
  },
  {
   "cell_type": "code",
   "execution_count": 10,
   "id": "dc701b73",
   "metadata": {},
   "outputs": [
    {
     "name": "stdout",
     "output_type": "stream",
     "text": [
      "84543\n"
     ]
    }
   ],
   "source": [
    "data6=load_images_from_folder(r\"C:\\Users\\HREEYA SINGH\\OneDrive\\Desktop\\LGM\\task9\\extracted_images\\6\")\n",
    "\n",
    "for i in range(0,len(data6)):\n",
    "    data6[i]=np.append(data6[i],['6'])\n",
    "data=np.concatenate((data,data6))\n",
    "print(len(data))"
   ]
  },
  {
   "cell_type": "code",
   "execution_count": 7,
   "id": "6130bf0f",
   "metadata": {},
   "outputs": [],
   "source": [
    "### Assign \"7\" = 7"
   ]
  },
  {
   "cell_type": "code",
   "execution_count": 11,
   "id": "66997239",
   "metadata": {},
   "outputs": [
    {
     "name": "stdout",
     "output_type": "stream",
     "text": [
      "87452\n"
     ]
    }
   ],
   "source": [
    "data7=load_images_from_folder(r\"C:\\Users\\HREEYA SINGH\\OneDrive\\Desktop\\LGM\\task9\\extracted_images\\7\")\n",
    "\n",
    "for i in range(0,len(data7)):\n",
    "    data7[i]=np.append(data7[i],['7'])\n",
    "data=np.concatenate((data,data7))\n",
    "print(len(data))"
   ]
  },
  {
   "cell_type": "code",
   "execution_count": 6,
   "id": "f59bf32f",
   "metadata": {},
   "outputs": [],
   "source": [
    "### Assign \"8\" = 8"
   ]
  },
  {
   "cell_type": "code",
   "execution_count": 12,
   "id": "85cd248d",
   "metadata": {},
   "outputs": [
    {
     "name": "stdout",
     "output_type": "stream",
     "text": [
      "90520\n"
     ]
    }
   ],
   "source": [
    "data8=load_images_from_folder(r\"C:\\Users\\HREEYA SINGH\\OneDrive\\Desktop\\LGM\\task9\\extracted_images\\8\")\n",
    "\n",
    "for i in range(0,len(data8)):\n",
    "    data8[i]=np.append(data8[i],['8'])\n",
    "data=np.concatenate((data,data8))\n",
    "print(len(data))"
   ]
  },
  {
   "cell_type": "code",
   "execution_count": 5,
   "id": "8948f6bb",
   "metadata": {},
   "outputs": [],
   "source": [
    "### Assign \"9\" = 9"
   ]
  },
  {
   "cell_type": "code",
   "execution_count": 13,
   "id": "2ca76bdb",
   "metadata": {},
   "outputs": [
    {
     "name": "stdout",
     "output_type": "stream",
     "text": [
      "101429\n"
     ]
    }
   ],
   "source": [
    "data9=load_images_from_folder(r\"C:\\Users\\HREEYA SINGH\\OneDrive\\Desktop\\LGM\\task9\\extracted_images\\9\")\n",
    "for i in range(0,len(data9)):\n",
    "    data9[i]=np.append(data9[i],['9'])\n",
    "data=np.concatenate((data,data9))\n",
    "print(len(data))"
   ]
  },
  {
   "cell_type": "code",
   "execution_count": 4,
   "id": "9385e619",
   "metadata": {},
   "outputs": [],
   "source": [
    "### Assign \"-\" = 10"
   ]
  },
  {
   "cell_type": "code",
   "execution_count": 14,
   "id": "f728f941",
   "metadata": {},
   "outputs": [
    {
     "name": "stdout",
     "output_type": "stream",
     "text": [
      "135426\n"
     ]
    }
   ],
   "source": [
    "data10=load_images_from_folder(r\"C:\\Users\\HREEYA SINGH\\OneDrive\\Desktop\\LGM\\task9\\extracted_images\\-\")\n",
    "\n",
    "for i in range(0,len(data10)):\n",
    "    data10[i]=np.append(data10[i],['10'])\n",
    "data=np.concatenate((data,data10))\n",
    "print(len(data))"
   ]
  },
  {
   "cell_type": "code",
   "execution_count": 3,
   "id": "8d7e0435",
   "metadata": {},
   "outputs": [],
   "source": [
    "### Assign \"+\" = 11"
   ]
  },
  {
   "cell_type": "code",
   "execution_count": 15,
   "id": "b71f5166",
   "metadata": {},
   "outputs": [
    {
     "name": "stdout",
     "output_type": "stream",
     "text": [
      "160538\n"
     ]
    }
   ],
   "source": [
    "data11=load_images_from_folder(r\"C:\\Users\\HREEYA SINGH\\OneDrive\\Desktop\\LGM\\task9\\extracted_images\\+\")\n",
    "for i in range(0,len(data11)):\n",
    "        data11[i]=np.append(data11[i],['11'])\n",
    "data=np.concatenate((data,data11),dtype=\"object\")\n",
    "print(len(data))"
   ]
  },
  {
   "cell_type": "code",
   "execution_count": 2,
   "id": "966e8f86",
   "metadata": {},
   "outputs": [],
   "source": [
    "### Assign \"*\" = 12"
   ]
  },
  {
   "cell_type": "code",
   "execution_count": 16,
   "id": "8b877c65",
   "metadata": {},
   "outputs": [
    {
     "name": "stdout",
     "output_type": "stream",
     "text": [
      "163789\n"
     ]
    }
   ],
   "source": [
    "data12=load_images_from_folder(r\"C:\\Users\\HREEYA SINGH\\OneDrive\\Desktop\\LGM\\task9\\extracted_images\\times\")\n",
    "\n",
    "for i in range(0,len(data12)):\n",
    "    data12[i]=np.append(data12[i],['12'])\n",
    "data=np.concatenate((data,data12))\n",
    "print(len(data))"
   ]
  },
  {
   "cell_type": "code",
   "execution_count": 1,
   "id": "e23db98e",
   "metadata": {},
   "outputs": [],
   "source": [
    "### Assign \"/\" = 13"
   ]
  },
  {
   "cell_type": "code",
   "execution_count": 17,
   "id": "55d0e281",
   "metadata": {},
   "outputs": [
    {
     "name": "stdout",
     "output_type": "stream",
     "text": [
      "164657\n"
     ]
    }
   ],
   "source": [
    "data13=load_images_from_folder(r\"C:\\Users\\HREEYA SINGH\\OneDrive\\Desktop\\LGM\\task9\\extracted_images\\div\")\n",
    "\n",
    "for i in range(0,len(data13)):\n",
    "    data13[i]=np.append(data13[i],['13'])\n",
    "data=np.concatenate((data,data13))\n",
    "print(len(data))"
   ]
  },
  {
   "cell_type": "markdown",
   "id": "3eed374b",
   "metadata": {},
   "source": [
    "### Saving the dataframe"
   ]
  },
  {
   "cell_type": "code",
   "execution_count": 18,
   "id": "6e8a4a9d",
   "metadata": {},
   "outputs": [],
   "source": [
    "df=pd.DataFrame(data,index=None)\n",
    "df.to_csv('train_final.csv',index=False)"
   ]
  },
  {
   "cell_type": "markdown",
   "id": "c7d2e933",
   "metadata": {},
   "source": [
    "## Thank you:)"
   ]
  },
  {
   "cell_type": "code",
   "execution_count": null,
   "id": "5e21ece6",
   "metadata": {},
   "outputs": [],
   "source": []
  }
 ],
 "metadata": {
  "kernelspec": {
   "display_name": "Python 3",
   "language": "python",
   "name": "python3"
  },
  "language_info": {
   "codemirror_mode": {
    "name": "ipython",
    "version": 3
   },
   "file_extension": ".py",
   "mimetype": "text/x-python",
   "name": "python",
   "nbconvert_exporter": "python",
   "pygments_lexer": "ipython3",
   "version": "3.8.8"
  }
 },
 "nbformat": 4,
 "nbformat_minor": 5
}
