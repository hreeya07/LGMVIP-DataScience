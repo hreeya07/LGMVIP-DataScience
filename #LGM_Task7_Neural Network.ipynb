{
 "cells": [
  {
   "cell_type": "markdown",
   "metadata": {},
   "source": [
    "# HREEYA SINGH"
   ]
  },
  {
   "cell_type": "markdown",
   "metadata": {},
   "source": [
    "# LGMVIP - DataScience Intern, March-2022\n",
    "## Task7 - Develop A Neural Network That Can Read Handwriting\n",
    "### Advanced Level Task"
   ]
  },
  {
   "cell_type": "markdown",
   "metadata": {
    "id": "2ag5-vOMfCxi"
   },
   "source": [
    "Import these libraries"
   ]
  },
  {
   "cell_type": "code",
   "execution_count": 1,
   "metadata": {
    "executionInfo": {
     "elapsed": 6610,
     "status": "ok",
     "timestamp": 1616915504930,
     "user": {
      "displayName": "Kanav Bansal",
      "photoUrl": "",
      "userId": "10896660143086870372"
     },
     "user_tz": -330
    },
    "id": "GOdD67p9eiEV"
   },
   "outputs": [],
   "source": [
    "import numpy as np\n",
    "import pandas as pd\n",
    "import matplotlib.pyplot as plt\n",
    "import seaborn as sns\n",
    "import warnings \n",
    "warnings.filterwarnings('ignore')\n",
    "from keras.utils import np_utils\n",
    "from keras.models import Sequential \n",
    "from keras.layers import Dense, Dropout, BatchNormalization\n",
    "from keras.layers import Conv2D, MaxPooling2D, Flatten\n",
    "from keras.datasets import mnist"
   ]
  },
  {
   "cell_type": "code",
   "execution_count": 2,
   "metadata": {
    "colab": {
     "base_uri": "https://localhost:8080/"
    },
    "executionInfo": {
     "elapsed": 5959,
     "status": "ok",
     "timestamp": 1616915504935,
     "user": {
      "displayName": "Kanav Bansal",
      "photoUrl": "",
      "userId": "10896660143086870372"
     },
     "user_tz": -330
    },
    "id": "OW6QtnCyfCKI",
    "outputId": "37c884a3-fe6a-4431-acd8-d46179e7b86f"
   },
   "outputs": [
    {
     "name": "stdout",
     "output_type": "stream",
     "text": [
      "2.7.0\n",
      "2.7.0\n"
     ]
    }
   ],
   "source": [
    "import tensorflow as tf\n",
    "from tensorflow import keras\n",
    "print(tf.__version__)\n",
    "print(keras.__version__)"
   ]
  },
  {
   "cell_type": "markdown",
   "metadata": {
    "id": "O1bj_XFpfcm6"
   },
   "source": [
    "### Load the Data"
   ]
  },
  {
   "cell_type": "code",
   "execution_count": 3,
   "metadata": {
    "executionInfo": {
     "elapsed": 4200,
     "status": "ok",
     "timestamp": 1616915504942,
     "user": {
      "displayName": "Kanav Bansal",
      "photoUrl": "",
      "userId": "10896660143086870372"
     },
     "user_tz": -330
    },
    "id": "LC9UkQXefUj4"
   },
   "outputs": [],
   "source": [
    "(X_train, y_train), (X_test, y_test) = mnist.load_data()"
   ]
  },
  {
   "cell_type": "code",
   "execution_count": 4,
   "metadata": {
    "colab": {
     "base_uri": "https://localhost:8080/"
    },
    "executionInfo": {
     "elapsed": 3782,
     "status": "ok",
     "timestamp": 1616915504943,
     "user": {
      "displayName": "Kanav Bansal",
      "photoUrl": "",
      "userId": "10896660143086870372"
     },
     "user_tz": -330
    },
    "id": "yylIphOCfhdt",
    "outputId": "522543bd-2480-426b-a6ff-816801f0e9dd"
   },
   "outputs": [
    {
     "data": {
      "text/plain": [
       "(60000, 28, 28)"
      ]
     },
     "execution_count": 4,
     "metadata": {},
     "output_type": "execute_result"
    }
   ],
   "source": [
    "X_train.shape"
   ]
  },
  {
   "cell_type": "code",
   "execution_count": 8,
   "metadata": {
    "colab": {
     "base_uri": "https://localhost:8080/",
     "height": 646
    },
    "executionInfo": {
     "elapsed": 5149,
     "status": "ok",
     "timestamp": 1616915507009,
     "user": {
      "displayName": "Kanav Bansal",
      "photoUrl": "",
      "userId": "10896660143086870372"
     },
     "user_tz": -330
    },
    "id": "2etQJqZDOMjt",
    "outputId": "f4534fc5-0f64-4878-ecd1-1d0592328282"
   },
   "outputs": [
    {
     "data": {
      "image/png": "[encoded data removed]",
      "text/plain": [
       "<Figure size 720x576 with 9 Axes>"
      ]
     },
     "metadata": {
      "needs_background": "light"
     },
     "output_type": "display_data"
    }
   ],
   "source": [
    "plt.figure(figsize=(10, 8))\n",
    "np.random.seed(0)\n",
    "idx = np.random.randint(0, 60000, 9)\n",
    "\n",
    "for i in range(len(idx)):\n",
    "    plt.subplot(3, 3, i+1)\n",
    "    plt.title(y_train[idx[i]])\n",
    "    grid_data = np.reshape(X_train[idx[i]], (28,28))\n",
    "    plt.imshow(grid_data, cmap='gray')"
   ]
  },
  {
   "cell_type": "markdown",
   "metadata": {
    "id": "eMJs7-s2fr8H"
   },
   "source": [
    "# Data Preprocessing"
   ]
  },
  {
   "cell_type": "code",
   "execution_count": 9,
   "metadata": {
    "executionInfo": {
     "elapsed": 4439,
     "status": "ok",
     "timestamp": 1616915507024,
     "user": {
      "displayName": "Kanav Bansal",
      "photoUrl": "",
      "userId": "10896660143086870372"
     },
     "user_tz": -330
    },
    "id": "WEUwHOLRfkgM"
   },
   "outputs": [],
   "source": [
    "X_train = X_train.astype('float32')\n",
    "X_test = X_test.astype('float32')\n",
    "X_train = X_train/255\n",
    "X_test = X_test/255\n",
    "X_train = X_train.reshape(60000, 28, 28, 1)\n",
    "X_test = X_test.reshape(10000, 28, 28, 1)"
   ]
  },
  {
   "cell_type": "code",
   "execution_count": 10,
   "metadata": {
    "colab": {
     "base_uri": "https://localhost:8080/"
    },
    "executionInfo": {
     "elapsed": 4027,
     "status": "ok",
     "timestamp": 1616915507025,
     "user": {
      "displayName": "Kanav Bansal",
      "photoUrl": "",
      "userId": "10896660143086870372"
     },
     "user_tz": -330
    },
    "id": "v6C2JJCMfo_H",
    "outputId": "5ce63e85-564d-4b14-b212-437cf27bcb4b"
   },
   "outputs": [
    {
     "name": "stdout",
     "output_type": "stream",
     "text": [
      "Class label of first image : 5\n",
      "After converting the output into a vector :  [0. 0. 0. 0. 0. 1. 0. 0. 0. 0.]\n"
     ]
    }
   ],
   "source": [
    "print(\"Class label of first image :\", y_train[0])\n",
    "Y_train = np_utils.to_categorical(y_train, 10) \n",
    "Y_test = np_utils.to_categorical(y_test, 10)\n",
    "print(\"After converting the output into a vector : \",Y_train[0])"
   ]
  },
  {
   "cell_type": "markdown",
   "metadata": {
    "id": "2BKs_8lFf1-5"
   },
   "source": [
    "# Building the Model"
   ]
  },
  {
   "cell_type": "code",
   "execution_count": 11,
   "metadata": {
    "colab": {
     "background_save": true,
     "base_uri": "https://localhost:8080/"
    },
    "executionInfo": {
     "elapsed": 43132,
     "status": "ok",
     "timestamp": 1616915547173,
     "user": {
      "displayName": "Kanav Bansal",
      "photoUrl": "",
      "userId": "10896660143086870372"
     },
     "user_tz": -330
    },
    "id": "nz8JFHkvf1aP"
   },
   "outputs": [
    {
     "name": "stdout",
     "output_type": "stream",
     "text": [
      "Epoch 1/20\n",
      "469/469 [==============================] - 90s 192ms/step - loss: 0.2535 - accuracy: 0.9231\n",
      "Epoch 2/20\n",
      "469/469 [==============================] - 112s 238ms/step - loss: 0.0948 - accuracy: 0.9724\n",
      "Epoch 3/20\n",
      "469/469 [==============================] - 97s 207ms/step - loss: 0.0733 - accuracy: 0.9773\n",
      "Epoch 4/20\n",
      "469/469 [==============================] - 87s 185ms/step - loss: 0.0578 - accuracy: 0.9823\n",
      "Epoch 5/20\n",
      "469/469 [==============================] - 86s 184ms/step - loss: 0.0506 - accuracy: 0.9841\n",
      "Epoch 6/20\n",
      "469/469 [==============================] - 95s 202ms/step - loss: 0.0416 - accuracy: 0.9867\n",
      "Epoch 7/20\n",
      "469/469 [==============================] - 89s 189ms/step - loss: 0.0384 - accuracy: 0.9879\n",
      "Epoch 8/20\n",
      "469/469 [==============================] - 98s 209ms/step - loss: 0.0342 - accuracy: 0.9889\n",
      "Epoch 9/20\n",
      "469/469 [==============================] - 98s 210ms/step - loss: 0.0327 - accuracy: 0.9891\n",
      "Epoch 10/20\n",
      "469/469 [==============================] - 89s 190ms/step - loss: 0.0269 - accuracy: 0.9909\n",
      "Epoch 11/20\n",
      "469/469 [==============================] - 83s 177ms/step - loss: 0.0273 - accuracy: 0.9912\n",
      "Epoch 12/20\n",
      "469/469 [==============================] - 89s 189ms/step - loss: 0.0244 - accuracy: 0.9918\n",
      "Epoch 13/20\n",
      "469/469 [==============================] - 87s 185ms/step - loss: 0.0223 - accuracy: 0.9922\n",
      "Epoch 14/20\n",
      "469/469 [==============================] - 96s 204ms/step - loss: 0.0209 - accuracy: 0.9931\n",
      "Epoch 15/20\n",
      "469/469 [==============================] - 97s 206ms/step - loss: 0.0205 - accuracy: 0.9930\n",
      "Epoch 16/20\n",
      "469/469 [==============================] - 94s 201ms/step - loss: 0.0190 - accuracy: 0.9937\n",
      "Epoch 17/20\n",
      "469/469 [==============================] - 91s 195ms/step - loss: 0.0176 - accuracy: 0.9941\n",
      "Epoch 18/20\n",
      "469/469 [==============================] - 89s 189ms/step - loss: 0.0175 - accuracy: 0.9940\n",
      "Epoch 19/20\n",
      "469/469 [==============================] - 130s 277ms/step - loss: 0.0164 - accuracy: 0.9945\n",
      "Epoch 20/20\n",
      "469/469 [==============================] - 140s 298ms/step - loss: 0.0164 - accuracy: 0.9942\n"
     ]
    },
    {
     "data": {
      "text/plain": [
       "<keras.callbacks.History at 0x2252780fe80>"
      ]
     },
     "execution_count": 11,
     "metadata": {},
     "output_type": "execute_result"
    }
   ],
   "source": [
    "model = None\n",
    "model = Sequential()\n",
    "model.add(Conv2D(32, kernel_size=(3, 3), padding='same', input_shape=(28, 28, 1), activation='relu', kernel_initializer='he_normal'))\n",
    "model.add(Conv2D(64, (3, 3), activation='relu', kernel_initializer='he_normal'))\n",
    "model.add(MaxPooling2D(pool_size=(2, 2)))\n",
    "model.add(Dropout(0.25))\n",
    "model.add(Flatten())\n",
    "model.add(Dense(128, activation='relu', kernel_initializer='he_normal'))\n",
    "model.add(Dropout(0.5))\n",
    "model.add(Dense(10, activation='softmax'))\n",
    "model.compile(optimizer='adam', loss='categorical_crossentropy', metrics=['accuracy'])\n",
    "model.fit(X_train, Y_train, batch_size=128, epochs=20)"
   ]
  },
  {
   "cell_type": "code",
   "execution_count": 12,
   "metadata": {
    "colab": {
     "base_uri": "https://localhost:8080/"
    },
    "executionInfo": {
     "elapsed": 1732,
     "status": "ok",
     "timestamp": 1616915586629,
     "user": {
      "displayName": "Kanav Bansal",
      "photoUrl": "",
      "userId": "10896660143086870372"
     },
     "user_tz": -330
    },
    "id": "4G1lQBKifxTB",
    "outputId": "8a671d7e-51fb-49c3-b67b-ce9a06ffd19c"
   },
   "outputs": [
    {
     "name": "stdout",
     "output_type": "stream",
     "text": [
      "Test Loss and Test Accuracy [0.032436173409223557, 0.9923999905586243]\n"
     ]
    }
   ],
   "source": [
    "prediction_score = model.evaluate(X_test, Y_test, verbose=0)\n",
    "print('Test Loss and Test Accuracy', prediction_score)"
   ]
  },
  {
   "cell_type": "code",
   "execution_count": 56,
   "metadata": {
    "executionInfo": {
     "elapsed": 997,
     "status": "ok",
     "timestamp": 1616915621599,
     "user": {
      "displayName": "Kanav Bansal",
      "photoUrl": "",
      "userId": "10896660143086870372"
     },
     "user_tz": -330
    },
    "id": "IjEgppYiXnaY"
   },
   "outputs": [],
   "source": [
    "from keras.preprocessing import image"
   ]
  },
  {
   "cell_type": "code",
   "execution_count": 57,
   "metadata": {
    "colab": {
     "base_uri": "https://localhost:8080/",
     "height": 283
    },
    "executionInfo": {
     "elapsed": 1037,
     "status": "ok",
     "timestamp": 1616915653568,
     "user": {
      "displayName": "Kanav Bansal",
      "photoUrl": "",
      "userId": "10896660143086870372"
     },
     "user_tz": -330
    },
    "id": "Rtdsx5HWXxAj",
    "outputId": "37af9779-8930-4bab-fa07-6cfa2bdc9ebd"
   },
   "outputs": [
    {
     "data": {
      "text/plain": [
       "<matplotlib.image.AxesImage at 0x2252929ae50>"
      ]
     },
     "execution_count": 57,
     "metadata": {},
     "output_type": "execute_result"
    },
    {
     "data": {
      "image/png": "[encoded data removed]",
      "text/plain": [
       "<Figure size 432x288 with 1 Axes>"
      ]
     },
     "metadata": {
      "needs_background": "light"
     },
     "output_type": "display_data"
    }
   ],
   "source": [
    "plt.imshow(image.array_to_img(X_test[50]), cmap=\"gray\")"
   ]
  },
  {
   "cell_type": "code",
   "execution_count": 58,
   "metadata": {
    "colab": {
     "base_uri": "https://localhost:8080/"
    },
    "executionInfo": {
     "elapsed": 922,
     "status": "ok",
     "timestamp": 1616915663932,
     "user": {
      "displayName": "Kanav Bansal",
      "photoUrl": "",
      "userId": "10896660143086870372"
     },
     "user_tz": -330
    },
    "id": "8pHoyL4mXxDc",
    "outputId": "2a7a71c0-57f9-4ae6-c035-da3fc7f368a6",
    "scrolled": true
   },
   "outputs": [
    {
     "data": {
      "text/plain": [
       "6"
      ]
     },
     "execution_count": 58,
     "metadata": {},
     "output_type": "execute_result"
    }
   ],
   "source": [
    "y_test[50]"
   ]
  },
  {
   "cell_type": "code",
   "execution_count": 65,
   "metadata": {},
   "outputs": [
    {
     "data": {
      "text/plain": [
       "<matplotlib.image.AxesImage at 0x22532d76220>"
      ]
     },
     "execution_count": 65,
     "metadata": {},
     "output_type": "execute_result"
    },
    {
     "data": {
      "image/png": "[encoded data removed]",
      "text/plain": [
       "<Figure size 432x288 with 1 Axes>"
      ]
     },
     "metadata": {
      "needs_background": "light"
     },
     "output_type": "display_data"
    }
   ],
   "source": [
    "plt.imshow(image.array_to_img(X_test[49]), cmap=\"gray\")"
   ]
  },
  {
   "cell_type": "code",
   "execution_count": 60,
   "metadata": {},
   "outputs": [
    {
     "data": {
      "text/plain": [
       "4"
      ]
     },
     "execution_count": 60,
     "metadata": {},
     "output_type": "execute_result"
    }
   ],
   "source": [
    "y_test[49]"
   ]
  },
  {
   "cell_type": "code",
   "execution_count": 70,
   "metadata": {},
   "outputs": [
    {
     "data": {
      "text/plain": [
       "0"
      ]
     },
     "execution_count": 70,
     "metadata": {},
     "output_type": "execute_result"
    },
    {
     "data": {
      "image/png": "[encoded data removed]",
      "text/plain": [
       "<Figure size 432x288 with 1 Axes>"
      ]
     },
     "metadata": {
      "needs_background": "light"
     },
     "output_type": "display_data"
    }
   ],
   "source": [
    "plt.imshow(image.array_to_img(X_test[69]), cmap=\"gray\")\n",
    "y_test[69]"
   ]
  },
  {
   "cell_type": "code",
   "execution_count": 62,
   "metadata": {},
   "outputs": [
    {
     "data": {
      "text/plain": [
       "0"
      ]
     },
     "execution_count": 62,
     "metadata": {},
     "output_type": "execute_result"
    }
   ],
   "source": [
    "y_test[69]"
   ]
  },
  {
   "cell_type": "markdown",
   "metadata": {},
   "source": [
    "### Testing Model"
   ]
  },
  {
   "cell_type": "code",
   "execution_count": 71,
   "metadata": {},
   "outputs": [
    {
     "name": "stdout",
     "output_type": "stream",
     "text": [
      "Predicted Value:  9\n",
      "Successful prediction\n"
     ]
    },
    {
     "data": {
      "image/png": "[encoded data removed]",
      "text/plain": [
       "<Figure size 432x288 with 1 Axes>"
      ]
     },
     "metadata": {
      "needs_background": "light"
     },
     "output_type": "display_data"
    }
   ],
   "source": [
    "plt.imshow(X_test[9],cmap='gray_r')\n",
    "plt.title('Actual Value: {}'.format(Y_test[9]))\n",
    "prediction=model.predict(X_test)\n",
    "\n",
    "plt.axis('off')\n",
    "print('Predicted Value: ',np.argmax(prediction[9]))\n",
    "if(y_test[9]==(np.argmax(prediction[9]))):\n",
    "  print('Successful prediction')\n",
    "else:\n",
    "  print('Unsuccessful prediction')"
   ]
  },
  {
   "cell_type": "markdown",
   "metadata": {},
   "source": [
    "## Thank you:)"
   ]
  },
  {
   "cell_type": "code",
   "execution_count": null,
   "metadata": {},
   "outputs": [],
   "source": []
  }
 ],
 "metadata": {
  "accelerator": "GPU",
  "colab": {
   "authorship_tag": "ABX9TyMPu1VI0ddi+J1f+o+AGv12",
   "collapsed_sections": [],
   "name": "CNN_MNIST.ipynb",
   "toc_visible": true,
   "version": ""
  },
  "kernelspec": {
   "display_name": "Python 3",
   "language": "python",
   "name": "python3"
  },
  "language_info": {
   "codemirror_mode": {
    "name": "ipython",
    "version": 3
   },
   "file_extension": ".py",
   "mimetype": "text/x-python",
   "name": "python",
   "nbconvert_exporter": "python",
   "pygments_lexer": "ipython3",
   "version": "3.8.8"
  }
 },
 "nbformat": 4,
 "nbformat_minor": 1
}
